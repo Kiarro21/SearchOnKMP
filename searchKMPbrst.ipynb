{
  "nbformat": 4,
  "nbformat_minor": 0,
  "metadata": {
    "colab": {
      "provenance": [],
      "authorship_tag": "ABX9TyMsLw9s11jGEtQPm2rJ6eio",
      "include_colab_link": true
    },
    "kernelspec": {
      "name": "python3",
      "display_name": "Python 3"
    },
    "language_info": {
      "name": "python"
    }
  },
  "cells": [
    {
      "cell_type": "markdown",
      "metadata": {
        "id": "view-in-github",
        "colab_type": "text"
      },
      "source": [
        "<a href=\"https://colab.research.google.com/github/Kiarro21/SearchOnKMP/blob/main/searchKMPbrst.ipynb\" target=\"_parent\"><img src=\"https://colab.research.google.com/assets/colab-badge.svg\" alt=\"Open In Colab\"/></a>"
      ]
    },
    {
      "cell_type": "code",
      "execution_count": 29,
      "metadata": {
        "id": "GzkY4pXy1ywc"
      },
      "outputs": [],
      "source": [
        "def brKMP(s):\n",
        "  br = [0]*len(s)\n",
        "  j = 0\n",
        "  i = 1\n",
        "  while i < len(s):\n",
        "      if s[j] == s[i]:\n",
        "          br[i] = j+1\n",
        "          i += 1\n",
        "          j += 1\n",
        "      else:\n",
        "          if j == 0:\n",
        "              br[i] = 0;\n",
        "              i += 1\n",
        "          else:\n",
        "              j = br[j-1]\n",
        "  return br\n",
        "\n",
        "def brstKMP(s,br):\n",
        "  n = len(s) \n",
        "  brs = [0]*n\n",
        "  for i in range(1,n):\n",
        "    if s[br[i]+1] != s[i]:\n",
        "      brs[i] = br[i]\n",
        "    else:\n",
        "      brs[i] = brs[br[i]]\n",
        "  return brs\n",
        "\n",
        "def searchOnKMP(a,t):\n",
        "  br = brKMP(t)\n",
        "  m = len(t)\n",
        "  n = len(a)\n",
        "  i = 0\n",
        "  j = 0\n",
        "  while i < n:\n",
        "      if a[i] == t[j]:\n",
        "          i += 1\n",
        "          j += 1\n",
        "          if j == m:\n",
        "              return i - j + 1\n",
        "              break\n",
        "      else:\n",
        "          if j > 0:\n",
        "              j = br[j-1]\n",
        "          else:\n",
        "              i += 1\n",
        "  if i == n and j != m:\n",
        "      print(\"образ не найден\")\n",
        "\n",
        "a = \"abcabcabdabcabcabcb\"\n",
        "t = \"abcab\"\n",
        "searchOnKMP(a,t)\n",
        "\n",
        "\n",
        "\n",
        "\n",
        "\n"
      ]
    }
  ]
}