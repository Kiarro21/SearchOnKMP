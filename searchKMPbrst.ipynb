{
  "nbformat": 4,
  "nbformat_minor": 0,
  "metadata": {
    "colab": {
      "provenance": [],
      "authorship_tag": "ABX9TyPdlhdDFQu+p1GTZWWtU9nr",
      "include_colab_link": true
    },
    "kernelspec": {
      "name": "python3",
      "display_name": "Python 3"
    },
    "language_info": {
      "name": "python"
    }
  },
  "cells": [
    {
      "cell_type": "markdown",
      "metadata": {
        "id": "view-in-github",
        "colab_type": "text"
      },
      "source": [
        "<a href=\"https://colab.research.google.com/github/Kiarro21/SearchOnKMP/blob/main/searchKMPbrst.ipynb\" target=\"_parent\"><img src=\"https://colab.research.google.com/assets/colab-badge.svg\" alt=\"Open In Colab\"/></a>"
      ]
    },
    {
      "cell_type": "code",
      "execution_count": 37,
      "metadata": {
        "colab": {
          "base_uri": "https://localhost:8080/"
        },
        "id": "GzkY4pXy1ywc",
        "outputId": "9b7a8555-5954-4601-85cc-68d39d539f73"
      },
      "outputs": [
        {
          "output_type": "stream",
          "name": "stdout",
          "text": [
            "[0, 0, 0, 0, 1, 2, 3, 0, 0]\n",
            "[0, 0, 0, 0, 1, 2, 3, 0, 0]\n",
            "образ не найден\n"
          ]
        }
      ],
      "source": [
        "def brKMP(s):\n",
        "  br = [0]*len(s)\n",
        "  j = 0\n",
        "  i = 1\n",
        "  while i < len(s):\n",
        "      if s[j] == s[i]:\n",
        "          br[i] = j+1\n",
        "          i += 1\n",
        "          j += 1\n",
        "      else:\n",
        "          if j == 0:\n",
        "              br[i] = 0;\n",
        "              i += 1\n",
        "          else:\n",
        "              j = br[j-1]\n",
        "  return br\n",
        "\n",
        "def brstKMP(s,br):\n",
        "  \"abcxabcde\"\n",
        "  [0, 0, 0, 0, 1, 2, 3, 0, 0]\n",
        "  n = len(s) #9\n",
        "  brs = [0]*n #[0, 0, 0, 0, 0, 0, 0, 0, 0]\n",
        "  # i = 1\n",
        "  # while i < n:\n",
        "  #   if s[br[i]+1] != s[i]:\n",
        "  #     brs[i] = br[i]\n",
        "  #   else:\n",
        "  #     brs[i] = brs[br[i]]\n",
        "  #   i +=1\n",
        "  for i in range(2,n):\n",
        "    if s[br[i]+1] != s[i]:\n",
        "      brs[i] = br[i]\n",
        "    else:\n",
        "      brs[i] = brs[br[i]]\n",
        "  return brs\n",
        "\n",
        "def searchOnKMP(a,t):\n",
        "  br = brKMP(t)\n",
        "  print(br)\n",
        "  brst = brstKMP(t, br)\n",
        "  print(brst)\n",
        "  m = len(t)\n",
        "  n = len(a)\n",
        "  i = 0\n",
        "  j = 0\n",
        "  while i < n:\n",
        "      if a[i] == t[j]:\n",
        "          i += 1\n",
        "          j += 1\n",
        "          if j == m:\n",
        "              return i - j + 1\n",
        "              break\n",
        "      else:\n",
        "          if j > 0:\n",
        "              j = brst[j-1]\n",
        "          else:\n",
        "              i += 1\n",
        "  if i == n and j != m:\n",
        "      print(\"образ не найден\")\n",
        "\n",
        "a = \"abcabcabdabcabcabcb\"\n",
        "t = \"abcxabcde\"\n",
        "searchOnKMP(a,t)\n",
        "\n",
        "\n",
        "\n",
        "\n",
        "\n"
      ]
    }
  ]
}