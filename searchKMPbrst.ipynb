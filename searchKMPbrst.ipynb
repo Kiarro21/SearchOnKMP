{
  "nbformat": 4,
  "nbformat_minor": 0,
  "metadata": {
    "colab": {
      "provenance": [],
      "authorship_tag": "ABX9TyPOqB0UVTfIQ/ympXiVCU5e",
      "include_colab_link": true
    },
    "kernelspec": {
      "name": "python3",
      "display_name": "Python 3"
    },
    "language_info": {
      "name": "python"
    }
  },
  "cells": [
    {
      "cell_type": "markdown",
      "metadata": {
        "id": "view-in-github",
        "colab_type": "text"
      },
      "source": [
        "<a href=\"https://colab.research.google.com/github/Kiarro21/SearchOnKMP/blob/main/searchKMPbrst.ipynb\" target=\"_parent\"><img src=\"https://colab.research.google.com/assets/colab-badge.svg\" alt=\"Open In Colab\"/></a>"
      ]
    },
    {
      "cell_type": "code",
      "execution_count": 15,
      "metadata": {
        "colab": {
          "base_uri": "https://localhost:8080/"
        },
        "id": "GzkY4pXy1ywc",
        "outputId": "2e2abae7-905b-4e32-fe96-e25cabf6d96d"
      },
      "outputs": [
        {
          "output_type": "stream",
          "name": "stdout",
          "text": [
            "[0, 0, 0, 1, 2, 3, 4, 5, 6]\n"
          ]
        },
        {
          "output_type": "execute_result",
          "data": {
            "text/plain": [
              "10"
            ]
          },
          "metadata": {},
          "execution_count": 15
        }
      ],
      "source": [
        "def brKMP(s):\n",
        "  br = [0]*len(s)\n",
        "  j = 0\n",
        "  i = 1\n",
        "  while i < len(s):\n",
        "      if s[j] == s[i]:\n",
        "          br[i] = j+1\n",
        "          i += 1\n",
        "          j += 1\n",
        "      else:\n",
        "          if j == 0:\n",
        "              br[i] = 0;\n",
        "              i += 1\n",
        "          else:\n",
        "              j = br[j-1]\n",
        "  return br\n",
        "\n",
        "#def brstKMP(s,br):\n",
        "#  n = len(s)\n",
        "#  brs = [0]*n\n",
        "#  i = 0\n",
        "#  while i < n:\n",
        "#    if s[br[i]+1] != s[i+1]:\n",
        "#      brs[i] = br[i]\n",
        "#    else:\n",
        "#      brs[i] = brs[br[i]]\n",
        "#  print(brs)\n",
        "#  return brs\n",
        "\n",
        "def searchOnKMP(a,t):\n",
        "  br = brKMP(t)\n",
        "  print(br)\n",
        "  #brst = brstKMP(t, br)\n",
        "  #print(brst)\n",
        "  m = len(t)\n",
        "  n = len(a)\n",
        "  i = 0\n",
        "  j = 0\n",
        "  while i < n:\n",
        "      if a[i] == t[j]:\n",
        "          i += 1\n",
        "          j += 1\n",
        "          if j == m:\n",
        "              return i - j + 1\n",
        "              break\n",
        "      else:\n",
        "          if j > 0:\n",
        "              j = br[j-1]\n",
        "          else:\n",
        "              i += 1\n",
        "  if i == n and j != m:\n",
        "      print(\"образ не найден\")\n",
        "\n",
        "a = \"abcabcabdabcabcabcb\"\n",
        "t = \"abcabcabc\"\n",
        "searchOnKMP(a,t)\n",
        "\n",
        "\n",
        "\n",
        "\n",
        "\n"
      ]
    }
  ]
}