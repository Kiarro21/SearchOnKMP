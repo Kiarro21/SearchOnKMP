{
  "nbformat": 4,
  "nbformat_minor": 0,
  "metadata": {
    "colab": {
      "provenance": [],
      "authorship_tag": "ABX9TyP3RB/UsZnHw9fAIh1BDnWB"
    },
    "kernelspec": {
      "name": "python3",
      "display_name": "Python 3"
    },
    "language_info": {
      "name": "python"
    }
  },
  "cells": [
    {
      "cell_type": "code",
      "execution_count": 15,
      "metadata": {
        "id": "GzkY4pXy1ywc",
        "outputId": "a7fde4d0-bca4-4373-b29a-1dade9a595cb",
        "colab": {
          "base_uri": "https://localhost:8080/"
        }
      },
      "outputs": [
        {
          "output_type": "stream",
          "name": "stdout",
          "text": [
            "[0, 0, 1, 1, 2, 3, 2, 3, 4, 5, 6, 4, 5, 6, 7, 8, 9, 10, 11, 7, 8]\n",
            "[0, 0, 1, 0, 0, 3, 0, 1, 0, 0, 6, 0, 0, 3, 0, 1, 0, 0, 11, 0, 8]\n",
            "образ не найден\n"
          ]
        }
      ],
      "source": [
        "from ast import iter_fields\n",
        "def brKMP(s):\n",
        "  br = [0]*len(s)\n",
        "  j = 0\n",
        "  i = 1\n",
        "  while i < len(s):\n",
        "      if s[j] == s[i]:\n",
        "          br[i] = j+1\n",
        "          i += 1\n",
        "          j += 1\n",
        "      else:\n",
        "          if j == 0:\n",
        "              br[i] = 0;\n",
        "              i += 1\n",
        "          else:\n",
        "              j = br[j-1]\n",
        "  return br\n",
        "\n",
        "def brstKMP(s):\n",
        "  br = brKMP(s)\n",
        "  n = len(s)\n",
        "  brs = [0]*n\n",
        "  for i in range(n):\n",
        "    if i == n-1:\n",
        "      brs[i]=br[i]\n",
        "      break\n",
        "    if s[i+1]!=s[br[i]]:\n",
        "      brs[i]=br[i]\n",
        "    else:\n",
        "      brs[i]=brs[br[i]-1]\n",
        "  return brs\n",
        "\n",
        "def searchOnKMP(a,t):\n",
        "  br = brKMP(t)\n",
        "  print(br)\n",
        "  brs= brstKMP(t)\n",
        "  print(brs)\n",
        "  m = len(t)\n",
        "  n = len(a)\n",
        "  i = 0\n",
        "  j = 0\n",
        "  while i < n:\n",
        "      if a[i] == t[j]:\n",
        "          i += 1\n",
        "          j += 1\n",
        "          if j == m:\n",
        "              return i - j + 1\n",
        "              break\n",
        "      else:\n",
        "          if j > 0:\n",
        "              j = br[j-1]\n",
        "          else:\n",
        "              i += 1\n",
        "  if i == n and j != m:\n",
        "      print(\"образ не найден\")\n",
        "\n",
        "a = \"abcabdabcabeabcabdabcabc\"\n",
        "t = \"abaababaabaababaababa\"\n",
        "searchOnKMP(a,t)\n",
        "\n",
        "\n",
        "\n",
        "\n",
        "\n"
      ]
    }
  ]
}