{
  "nbformat": 4,
  "nbformat_minor": 0,
  "metadata": {
    "colab": {
      "provenance": [],
      "authorship_tag": "ABX9TyOi/n9RvLJbYrx39AgPUj+I",
      "include_colab_link": true
    },
    "kernelspec": {
      "name": "python3",
      "display_name": "Python 3"
    },
    "language_info": {
      "name": "python"
    }
  },
  "cells": [
    {
      "cell_type": "markdown",
      "metadata": {
        "id": "view-in-github",
        "colab_type": "text"
      },
      "source": [
        "<a href=\"https://colab.research.google.com/github/Kiarro21/SearchOnKMP/blob/main/searchKMP.ipynb\" target=\"_parent\"><img src=\"https://colab.research.google.com/assets/colab-badge.svg\" alt=\"Open In Colab\"/></a>"
      ]
    },
    {
      "cell_type": "code",
      "execution_count": null,
      "metadata": {
        "colab": {
          "base_uri": "https://localhost:8080/"
        },
        "id": "GzkY4pXy1ywc",
        "outputId": "d767d438-8365-4bd2-d4f3-6a291c759765"
      },
      "outputs": [
        {
          "output_type": "stream",
          "name": "stdout",
          "text": [
            "образ найден\n"
          ]
        }
      ],
      "source": [
        "def KMP(s):\n",
        "  p = [0]*len(t)\n",
        "  j = 0\n",
        "  i = 1\n",
        "  while i < len(t):\n",
        "      if t[j] == t[i]:\n",
        "          p[i] = j+1\n",
        "          i += 1\n",
        "          j += 1\n",
        "      else:\n",
        "          if j == 0:\n",
        "              p[i] = 0;\n",
        "              i += 1\n",
        "          else:\n",
        "              j = p[j-1]\n",
        "  return p\n",
        "\n",
        "def searchOnKMP(a,t):\n",
        "  p = KMP(t)\n",
        "  m = len(t)\n",
        "  n = len(a)\n",
        "  i = 0\n",
        "  j = 0\n",
        "  while i < n:\n",
        "      if a[i] == t[j]:\n",
        "          i += 1\n",
        "          j += 1\n",
        "          if j == m:\n",
        "              print(\"образ найден\")\n",
        "              break\n",
        "      else:\n",
        "          if j > 0:\n",
        "              j = p[j-1]\n",
        "          else:\n",
        "              i += 1\n",
        "  if i == n and j != m:\n",
        "      print(\"образ не найден\")\n",
        "\n",
        "a = \"лилилось лилилась\"\n",
        "t = \"лилила\"\n",
        "searchOnKMP(a,t)\n",
        "\n",
        "\n",
        "\n",
        "\n"
      ]
    }
  ]
}