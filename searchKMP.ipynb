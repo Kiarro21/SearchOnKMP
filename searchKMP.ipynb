{
  "nbformat": 4,
  "nbformat_minor": 0,
  "metadata": {
    "colab": {
      "provenance": [],
      "authorship_tag": "ABX9TyOXMzfmY/xNOFoCgwL51sQf",
      "include_colab_link": true
    },
    "kernelspec": {
      "name": "python3",
      "display_name": "Python 3"
    },
    "language_info": {
      "name": "python"
    }
  },
  "cells": [
    {
      "cell_type": "markdown",
      "metadata": {
        "id": "view-in-github",
        "colab_type": "text"
      },
      "source": [
        "<a href=\"https://colab.research.google.com/github/Kiarro21/SearchOnKMP/blob/main/searchKMP.ipynb\" target=\"_parent\"><img src=\"https://colab.research.google.com/assets/colab-badge.svg\" alt=\"Open In Colab\"/></a>"
      ]
    },
    {
      "cell_type": "code",
      "execution_count": 34,
      "metadata": {
        "colab": {
          "base_uri": "https://localhost:8080/"
        },
        "id": "GzkY4pXy1ywc",
        "outputId": "c08d3ff6-7cde-49fd-ff67-5adf38662c52"
      },
      "outputs": [
        {
          "output_type": "execute_result",
          "data": {
            "text/plain": [
              "10"
            ]
          },
          "metadata": {},
          "execution_count": 34
        }
      ],
      "source": [
        "def brKMP(s):\n",
        "  br = [0]*len(s)\n",
        "  j = 0\n",
        "  i = 1\n",
        "  while i < len(s):\n",
        "      if s[j] == s[i]:\n",
        "          br[i] = j+1\n",
        "          i += 1\n",
        "          j += 1\n",
        "      else:\n",
        "          if j == 0:\n",
        "              br[i] = 0;\n",
        "              i += 1\n",
        "          else:\n",
        "              j = br[j-1]\n",
        "  return br\n",
        "\n",
        "\n",
        "\n",
        "def searchOnKMP(a,t):\n",
        "  br = brKMP(t)\n",
        "  m = len(t)\n",
        "  n = len(a)\n",
        "  i = 0\n",
        "  j = 0\n",
        "  while i < n:\n",
        "      if a[i] == t[j]:\n",
        "          i += 1\n",
        "          j += 1\n",
        "          if j == m:\n",
        "              return i - j + 1\n",
        "              break\n",
        "      else:\n",
        "          if j > 0:\n",
        "              j = br[j-1]\n",
        "          else:\n",
        "              i += 1\n",
        "  if i == n and j != m:\n",
        "      print(\"образ не найден\")\n",
        "\n",
        "a = \"abcabcabdabcabcabcb\"\n",
        "t = \"abcabcabc\"\n",
        "searchOnKMP(a,t)\n",
        "\n",
        "\n",
        "\n",
        "\n",
        "\n"
      ]
    }
  ]
}