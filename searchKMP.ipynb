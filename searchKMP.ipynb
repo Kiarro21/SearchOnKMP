{
  "nbformat": 4,
  "nbformat_minor": 0,
  "metadata": {
    "colab": {
      "provenance": [],
      "authorship_tag": "ABX9TyPKebZmrrH88HKHWhZbMH/8",
      "include_colab_link": true
    },
    "kernelspec": {
      "name": "python3",
      "display_name": "Python 3"
    },
    "language_info": {
      "name": "python"
    }
  },
  "cells": [
    {
      "cell_type": "markdown",
      "metadata": {
        "id": "view-in-github",
        "colab_type": "text"
      },
      "source": [
        "<a href=\"https://colab.research.google.com/github/Kiarro21/SearchOnKMP/blob/main/searchKMP.ipynb\" target=\"_parent\"><img src=\"https://colab.research.google.com/assets/colab-badge.svg\" alt=\"Open In Colab\"/></a>"
      ]
    },
    {
      "cell_type": "code",
      "execution_count": 5,
      "metadata": {
        "colab": {
          "base_uri": "https://localhost:8080/"
        },
        "id": "GzkY4pXy1ywc",
        "outputId": "627f5a50-6237-445f-9b9b-c851c1b17b6d"
      },
      "outputs": [
        {
          "output_type": "execute_result",
          "data": {
            "text/plain": [
              "10"
            ]
          },
          "metadata": {},
          "execution_count": 5
        }
      ],
      "source": [
        "def brKMP(s):\n",
        "  br = [0]*len(s)\n",
        "  j = 0\n",
        "  i = 1\n",
        "  while i < len(s):\n",
        "      if s[j] == s[i]:\n",
        "          br[i] = j+1\n",
        "          i += 1\n",
        "          j += 1\n",
        "      else:\n",
        "          if j == 0:\n",
        "              br[i] = 0;\n",
        "              i += 1\n",
        "          else:\n",
        "              j = br[j-1]\n",
        "  return br\n",
        "\n",
        "def brsKMP(s):\n",
        "  br = brKMP(s)\n",
        "  brs = [0]*len(s)\n",
        "  i = 1\n",
        "  while i < len(s):\n",
        "    if i == len(s)-1:\n",
        "      brs[i]=br[i]\n",
        "      break\n",
        "    if s[i+1]!=s[br[i]]:\n",
        "      brs[i]=br[i]\n",
        "      i+=1\n",
        "    else:\n",
        "      brs[i]=brs[br[i]-1]\n",
        "      i+=1\n",
        "  return brs\n",
        "\n",
        "def searchOnKMP(P,T):\n",
        "  brs = brsKMP(T)\n",
        "  m = len(T)\n",
        "  n = len(P)\n",
        "  i = 0\n",
        "  j = 0\n",
        "  while i < n:\n",
        "      if P[i] == T[j]:\n",
        "          i += 1\n",
        "          j += 1\n",
        "          if j == m:\n",
        "              return i - j + 1\n",
        "              break\n",
        "      else:\n",
        "          if j > 0:\n",
        "              j = brs[j-1]\n",
        "          else:\n",
        "              i += 1\n",
        "  if i == n and j != m:\n",
        "      print(\"образ не найден\")\n",
        "\n",
        "P = \"abcabcabdabcabcabcb\"\n",
        "T = \"abcabcabc\"\n",
        "searchOnKMP(P,T)\n",
        "\n",
        "\n",
        "\n",
        "\n",
        "\n"
      ]
    }
  ]
}